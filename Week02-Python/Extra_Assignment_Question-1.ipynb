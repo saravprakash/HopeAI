{
 "cells": [
  {
   "cell_type": "code",
   "execution_count": 1,
   "id": "fda71dfd-7bb6-485f-a291-170ce2e0b68e",
   "metadata": {},
   "outputs": [
    {
     "name": "stdout",
     "output_type": "stream",
     "text": [
      "HOPE AI\n"
     ]
    }
   ],
   "source": [
    "print(\"HOPE AI\")"
   ]
  },
  {
   "cell_type": "code",
   "execution_count": 3,
   "id": "953557a8-7595-46c1-af13-d51dbd96c781",
   "metadata": {},
   "outputs": [
    {
     "name": "stdin",
     "output_type": "stream",
     "text": [
      "Enter your institute name? : HOPE AI\n"
     ]
    }
   ],
   "source": [
    "instute=input(\"Enter your institute name? :\")"
   ]
  },
  {
   "cell_type": "code",
   "execution_count": 4,
   "id": "b492da7b-919d-477a-b5f3-755f96e96baa",
   "metadata": {},
   "outputs": [
    {
     "name": "stdin",
     "output_type": "stream",
     "text": [
      "Enter your name:  Raj\n",
      "Enter your age:  15\n",
      "Enter your school name:  Guru school\n",
      "Enter your drgree:  B.E CSE\n"
     ]
    }
   ],
   "source": [
    "name=input(\"Enter your name: \")\n",
    "age=input(\"Enter your age: \")\n",
    "schoolname=input(\"Enter your school name: \")\n",
    "degress=input(\"Enter your drgree: \")"
   ]
  },
  {
   "cell_type": "code",
   "execution_count": 5,
   "id": "e7e7db60-ebc7-4c61-b966-4eff96285c89",
   "metadata": {},
   "outputs": [
    {
     "name": "stdin",
     "output_type": "stream",
     "text": [
      "a=  43\n",
      "a=  34\n"
     ]
    },
    {
     "name": "stdout",
     "output_type": "stream",
     "text": [
      "add = 77\n"
     ]
    }
   ],
   "source": [
    "a= int(input(\"a= \"))\n",
    "b= int(input(\"a= \"))\n",
    "print(\"add =\", a+b)"
   ]
  },
  {
   "cell_type": "code",
   "execution_count": 6,
   "id": "023af37f-67f8-4feb-96d8-21fdae1a65c9",
   "metadata": {},
   "outputs": [
    {
     "name": "stdin",
     "output_type": "stream",
     "text": [
      "a=  43\n",
      "a=  34\n"
     ]
    },
    {
     "name": "stdout",
     "output_type": "stream",
     "text": [
      "Sub = 9\n"
     ]
    }
   ],
   "source": [
    "a= int(input(\"a= \"))\n",
    "b= int(input(\"a= \"))\n",
    "print(\"Sub =\", a-b)"
   ]
  },
  {
   "cell_type": "code",
   "execution_count": 7,
   "id": "6cbb2c2e-fb20-48d2-9b09-69a729e0c5c1",
   "metadata": {},
   "outputs": [
    {
     "name": "stdin",
     "output_type": "stream",
     "text": [
      "a=  63\n",
      "a=  97\n"
     ]
    },
    {
     "name": "stdout",
     "output_type": "stream",
     "text": [
      "Mul = 6111\n"
     ]
    }
   ],
   "source": [
    "a= int(input(\"a= \"))\n",
    "b= int(input(\"a= \"))\n",
    "print(\"Mul =\", a*b)"
   ]
  },
  {
   "cell_type": "code",
   "execution_count": 8,
   "id": "9a8418fe-b8de-4c8a-abea-0f7ac9240987",
   "metadata": {},
   "outputs": [
    {
     "name": "stdin",
     "output_type": "stream",
     "text": [
      "a=  76\n",
      "a=  31\n"
     ]
    },
    {
     "name": "stdout",
     "output_type": "stream",
     "text": [
      "Float Div =  2.4516129032258065\n"
     ]
    }
   ],
   "source": [
    "a= int(input(\"a= \"))\n",
    "b= int(input(\"a= \"))\n",
    "print(\"Float Div = \", a/b)"
   ]
  },
  {
   "cell_type": "code",
   "execution_count": 9,
   "id": "7134e7ce-ea96-47d7-865c-9c35f718f263",
   "metadata": {},
   "outputs": [
    {
     "name": "stdin",
     "output_type": "stream",
     "text": [
      "a=  76\n",
      "a=  31\n"
     ]
    },
    {
     "name": "stdout",
     "output_type": "stream",
     "text": [
      "Modulo =  14\n"
     ]
    }
   ],
   "source": [
    "a= int(input(\"a= \"))\n",
    "b= int(input(\"a= \"))\n",
    "print(\"Modulo = \", a%b)"
   ]
  },
  {
   "cell_type": "code",
   "execution_count": 10,
   "id": "ca40c4c2-ca65-4d79-a771-49b2086a4fbe",
   "metadata": {},
   "outputs": [
    {
     "name": "stdin",
     "output_type": "stream",
     "text": [
      "a=  4\n",
      "a=  4\n"
     ]
    },
    {
     "name": "stdout",
     "output_type": "stream",
     "text": [
      "Power = 256\n"
     ]
    }
   ],
   "source": [
    "a= int(input(\"a= \"))\n",
    "b= int(input(\"a= \"))\n",
    "print(\"Power =\", pow(a,b))"
   ]
  },
  {
   "cell_type": "code",
   "execution_count": null,
   "id": "9d194eec-b686-44aa-9e1d-f5297ea87834",
   "metadata": {},
   "outputs": [],
   "source": []
  },
  {
   "cell_type": "code",
   "execution_count": null,
   "id": "190bfd4f-536c-4501-b648-89cae6d2d428",
   "metadata": {},
   "outputs": [],
   "source": []
  }
 ],
 "metadata": {
  "kernelspec": {
   "display_name": "Python 3 (ipykernel)",
   "language": "python",
   "name": "python3"
  },
  "language_info": {
   "codemirror_mode": {
    "name": "ipython",
    "version": 3
   },
   "file_extension": ".py",
   "mimetype": "text/x-python",
   "name": "python",
   "nbconvert_exporter": "python",
   "pygments_lexer": "ipython3",
   "version": "3.12.0"
  }
 },
 "nbformat": 4,
 "nbformat_minor": 5
}
