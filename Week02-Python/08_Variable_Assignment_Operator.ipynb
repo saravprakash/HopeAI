{
 "cells": [
  {
   "cell_type": "code",
   "execution_count": 4,
   "id": "1e9c5180-22bf-4560-847d-bc8e4f4af5c6",
   "metadata": {},
   "outputs": [
    {
     "name": "stdout",
     "output_type": "stream",
     "text": [
      "sum\n",
      "40\n",
      "sum of given two numbers =  40\n"
     ]
    }
   ],
   "source": [
    "num1 = 10\n",
    "num2 = 30\n",
    "sum = num1 + num2\n",
    "print(\"sum\")\n",
    "print(sum)\n",
    "print(\"sum of given two numbers = \", sum)"
   ]
  },
  {
   "cell_type": "markdown",
   "id": "16f84748-43d7-41f7-b677-6fa6a0c07345",
   "metadata": {},
   "source": [
    "substraction example"
   ]
  },
  {
   "cell_type": "code",
   "execution_count": 6,
   "id": "204e6575-fbd1-4e96-9691-083feb2d49d9",
   "metadata": {},
   "outputs": [
    {
     "name": "stdout",
     "output_type": "stream",
     "text": [
      "sub =  20\n"
     ]
    }
   ],
   "source": [
    "num3 = 50\n",
    "num4 = 30\n",
    "sub = num3 - num4\n",
    "print(\"sub = \", sub)"
   ]
  },
  {
   "cell_type": "markdown",
   "id": "112ba466-2683-4648-aafd-38d763dab462",
   "metadata": {},
   "source": [
    "Concatenation of string"
   ]
  },
  {
   "cell_type": "code",
   "execution_count": 9,
   "id": "9205aee0-d801-4eff-9473-87d0d0551acd",
   "metadata": {},
   "outputs": [
    {
     "name": "stdout",
     "output_type": "stream",
     "text": [
      "prakashbs\n"
     ]
    }
   ],
   "source": [
    "fname = \"prakash\"\n",
    "lname = \"bs\"\n",
    "fullname = fname+lname\n",
    "print(fullname)"
   ]
  },
  {
   "cell_type": "code",
   "execution_count": 10,
   "id": "efbb13a5-5090-4a01-a84a-3ec573f5f034",
   "metadata": {},
   "outputs": [
    {
     "name": "stdout",
     "output_type": "stream",
     "text": [
      "prakash bs\n"
     ]
    }
   ],
   "source": [
    "print(fname, lname)"
   ]
  },
  {
   "cell_type": "code",
   "execution_count": 11,
   "id": "1fffc7d9-9506-4c08-8793-409b6917ff33",
   "metadata": {},
   "outputs": [
    {
     "name": "stdout",
     "output_type": "stream",
     "text": [
      "bs prakash\n"
     ]
    }
   ],
   "source": [
    "print(lname, fname)"
   ]
  },
  {
   "cell_type": "markdown",
   "id": "89a09581-542c-49bf-9933-241160dc6d98",
   "metadata": {},
   "source": [
    "Inpurt"
   ]
  },
  {
   "cell_type": "code",
   "execution_count": 12,
   "id": "c1421e27-6f37-482b-9b07-899d7aa34f4d",
   "metadata": {},
   "outputs": [
    {
     "name": "stdin",
     "output_type": "stream",
     "text": [
      "Enter the first number:  25\n"
     ]
    }
   ],
   "source": [
    "num5 = int(input(\"Enter the first number: \"))"
   ]
  },
  {
   "cell_type": "code",
   "execution_count": 13,
   "id": "079262ed-231c-4a5a-a618-5599e0770b19",
   "metadata": {},
   "outputs": [
    {
     "name": "stdin",
     "output_type": "stream",
     "text": [
      "Enter the second number:  5\n"
     ]
    }
   ],
   "source": [
    "num6 = int(input(\"Enter the second number: \"))"
   ]
  },
  {
   "cell_type": "code",
   "execution_count": 14,
   "id": "3ae3c168-e294-46d8-859a-2ac21427f2a5",
   "metadata": {},
   "outputs": [],
   "source": [
    "sum2=num5+num6"
   ]
  },
  {
   "cell_type": "code",
   "execution_count": 15,
   "id": "c271e2ee-dd96-4211-92de-0bde52234b6d",
   "metadata": {},
   "outputs": [
    {
     "name": "stdout",
     "output_type": "stream",
     "text": [
      "30\n"
     ]
    }
   ],
   "source": [
    "print(sum2)"
   ]
  },
  {
   "cell_type": "code",
   "execution_count": 22,
   "id": "acc3ec04-a228-46d1-a994-97db6c3424b7",
   "metadata": {},
   "outputs": [
    {
     "name": "stdin",
     "output_type": "stream",
     "text": [
      "Enter the first number:  60\n",
      "Enter the second number:  5\n"
     ]
    },
    {
     "name": "stdout",
     "output_type": "stream",
     "text": [
      "sum of given two numbers =  65\n",
      "substracted value =  55\n",
      "multiplication of given two numbers =  300\n",
      "Quotient =  12.0 and Reminder = 0\n"
     ]
    }
   ],
   "source": [
    "num5 = int(input(\"Enter the first number: \"))\n",
    "num6 = int(input(\"Enter the second number: \"))\n",
    "sum2=num5+num6\n",
    "mul=num5*num6\n",
    "sub2=num5-num6\n",
    "quo=num5/num6\n",
    "reminder=num5%num6\n",
    "print(\"sum of given two numbers = \",sum2)\n",
    "print(\"substracted value = \",sub2)\n",
    "print(\"multiplication of given two numbers = \",mul)\n",
    "print(\"Quotient = \",quo, \"and Reminder =\", reminder )"
   ]
  },
  {
   "cell_type": "code",
   "execution_count": null,
   "id": "0c1a7693-cc01-41ae-a43e-6a1716b43c45",
   "metadata": {},
   "outputs": [],
   "source": []
  },
  {
   "cell_type": "code",
   "execution_count": null,
   "id": "8571122b-ed26-4638-8262-09258a771352",
   "metadata": {},
   "outputs": [],
   "source": []
  },
  {
   "cell_type": "code",
   "execution_count": null,
   "id": "2a821bde-27e5-419c-8ca4-e3bce7edb28b",
   "metadata": {},
   "outputs": [],
   "source": []
  },
  {
   "cell_type": "code",
   "execution_count": null,
   "id": "68bb747f-66dd-4843-bd44-93db7ef76e3c",
   "metadata": {},
   "outputs": [],
   "source": []
  },
  {
   "cell_type": "code",
   "execution_count": null,
   "id": "6d7ac653-c889-4d65-b063-96ff90049574",
   "metadata": {},
   "outputs": [],
   "source": []
  },
  {
   "cell_type": "code",
   "execution_count": null,
   "id": "061af753-196c-4f64-9d4a-7c9e74415083",
   "metadata": {},
   "outputs": [],
   "source": []
  },
  {
   "cell_type": "code",
   "execution_count": null,
   "id": "8f9903a6-808c-4cf5-ab93-7c47373c6c6d",
   "metadata": {},
   "outputs": [],
   "source": []
  },
  {
   "cell_type": "code",
   "execution_count": null,
   "id": "77622bc0-d5f3-412e-91ac-35cd977ef33c",
   "metadata": {},
   "outputs": [],
   "source": []
  },
  {
   "cell_type": "code",
   "execution_count": null,
   "id": "1eea7398-1d6f-4f66-a4c7-694249647215",
   "metadata": {},
   "outputs": [],
   "source": []
  },
  {
   "cell_type": "code",
   "execution_count": null,
   "id": "c426e3e7-1c67-4864-bac9-6a9bb03495e3",
   "metadata": {},
   "outputs": [],
   "source": []
  },
  {
   "cell_type": "code",
   "execution_count": null,
   "id": "af2710af-3153-44c9-b26a-3a0a1cd81d75",
   "metadata": {},
   "outputs": [],
   "source": []
  },
  {
   "cell_type": "code",
   "execution_count": null,
   "id": "b90a9e41-24bb-4c55-9308-1739a74383fc",
   "metadata": {},
   "outputs": [],
   "source": []
  },
  {
   "cell_type": "code",
   "execution_count": null,
   "id": "1819eb99-bc01-48c7-9179-011d9c075da6",
   "metadata": {},
   "outputs": [],
   "source": []
  },
  {
   "cell_type": "code",
   "execution_count": null,
   "id": "1a5b7b2a-2b38-4d8b-8fc5-eb5a9581bd80",
   "metadata": {},
   "outputs": [],
   "source": []
  }
 ],
 "metadata": {
  "kernelspec": {
   "display_name": "Python 3 (ipykernel)",
   "language": "python",
   "name": "python3"
  },
  "language_info": {
   "codemirror_mode": {
    "name": "ipython",
    "version": 3
   },
   "file_extension": ".py",
   "mimetype": "text/x-python",
   "name": "python",
   "nbconvert_exporter": "python",
   "pygments_lexer": "ipython3",
   "version": "3.12.0"
  }
 },
 "nbformat": 4,
 "nbformat_minor": 5
}
