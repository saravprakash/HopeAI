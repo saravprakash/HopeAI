{
 "cells": [
  {
   "cell_type": "code",
   "execution_count": 5,
   "id": "e808d864-4c40-4b8d-b9ac-98cdf7669195",
   "metadata": {},
   "outputs": [],
   "source": [
    "range1=range(1,11)"
   ]
  },
  {
   "cell_type": "code",
   "execution_count": 6,
   "id": "df522efc-35cf-409f-8d18-38f636f08961",
   "metadata": {},
   "outputs": [
    {
     "name": "stdout",
     "output_type": "stream",
     "text": [
      "range(1, 11)\n"
     ]
    }
   ],
   "source": [
    "print(range1)"
   ]
  },
  {
   "cell_type": "code",
   "execution_count": 7,
   "id": "e581aea6-d912-454b-a7c9-878084fb9ddb",
   "metadata": {},
   "outputs": [
    {
     "name": "stdout",
     "output_type": "stream",
     "text": [
      "1\n",
      "2\n",
      "3\n",
      "4\n",
      "5\n",
      "6\n",
      "7\n",
      "8\n",
      "9\n",
      "10\n"
     ]
    }
   ],
   "source": [
    "for r in range1:\n",
    "    print(r)"
   ]
  },
  {
   "cell_type": "markdown",
   "id": "4999d07e-161a-4e44-bb3f-c660cc2acade",
   "metadata": {},
   "source": [
    "range=range(start,end,step)\n"
   ]
  },
  {
   "cell_type": "code",
   "execution_count": 8,
   "id": "0d3c98bc-1781-4389-a0b4-6706742dcb8a",
   "metadata": {},
   "outputs": [
    {
     "name": "stdout",
     "output_type": "stream",
     "text": [
      "1\n",
      "3\n",
      "5\n",
      "7\n",
      "9\n"
     ]
    }
   ],
   "source": [
    "range2=range(1,11,2)\n",
    "for r in range2:\n",
    "    print(r)"
   ]
  },
  {
   "cell_type": "code",
   "execution_count": null,
   "id": "f2d315ba-1a38-4c86-ab22-cb3706a67fa5",
   "metadata": {},
   "outputs": [],
   "source": []
  },
  {
   "cell_type": "code",
   "execution_count": null,
   "id": "b75dcd75-6c2a-412c-9d91-f4c945e3a2e4",
   "metadata": {},
   "outputs": [],
   "source": []
  },
  {
   "cell_type": "code",
   "execution_count": null,
   "id": "9a9ccf2b-893a-4d62-952f-83cafeffc870",
   "metadata": {},
   "outputs": [],
   "source": []
  }
 ],
 "metadata": {
  "kernelspec": {
   "display_name": "Python 3 (ipykernel)",
   "language": "python",
   "name": "python3"
  },
  "language_info": {
   "codemirror_mode": {
    "name": "ipython",
    "version": 3
   },
   "file_extension": ".py",
   "mimetype": "text/x-python",
   "name": "python",
   "nbconvert_exporter": "python",
   "pygments_lexer": "ipython3",
   "version": "3.12.0"
  }
 },
 "nbformat": 4,
 "nbformat_minor": 5
}
