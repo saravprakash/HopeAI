{
 "cells": [
  {
   "cell_type": "code",
   "execution_count": 3,
   "id": "9d76f496-d23e-41d4-82ad-953c18ed894c",
   "metadata": {},
   "outputs": [],
   "source": [
    "class SubfieldsInAI():\n",
    "    def Subfields():\n",
    "        print(\"Sub-fields in AI are:\")\n",
    "        print(\"Machine Learning\")\n",
    "        print(\"Neural Networks\")\n",
    "        print(\"Vision\")\n",
    "        print(\"Robotics\")\n",
    "        print(\"Speech Processing\")\n",
    "        print(\"Natural Language Processing\") "
   ]
  },
  {
   "cell_type": "code",
   "execution_count": 4,
   "id": "d717d1bc-1910-4bfc-b748-9422055f5f9e",
   "metadata": {},
   "outputs": [
    {
     "name": "stdout",
     "output_type": "stream",
     "text": [
      "Sub-fields in AI are:\n",
      "Machine Learning\n",
      "Neural Networks\n",
      "Vision\n",
      "Robotics\n",
      "Speech Processing\n",
      "Natural Language Processing\n"
     ]
    }
   ],
   "source": [
    "SubfieldsInAI.Subfields()"
   ]
  },
  {
   "cell_type": "code",
   "execution_count": null,
   "id": "3cd6e18a-52f8-42ae-b73c-54db280073f9",
   "metadata": {},
   "outputs": [],
   "source": []
  },
  {
   "cell_type": "code",
   "execution_count": 5,
   "id": "ca230a2f-18d4-41b7-aaf5-eb0e88e1496a",
   "metadata": {},
   "outputs": [],
   "source": [
    "class OddEven():\n",
    "    def OddEven():\n",
    "        num=int(input(\"Enter a number:\"))\n",
    "        if(num%2==0):\n",
    "            msg=str(num)+ \" is Even number\"\n",
    "        else:\n",
    "            msg=str(num)+ \" is Odd number\"\n",
    "        return msg"
   ]
  },
  {
   "cell_type": "code",
   "execution_count": 6,
   "id": "df478328-7ec8-4db5-8e4e-3b2c51980f93",
   "metadata": {},
   "outputs": [
    {
     "name": "stdin",
     "output_type": "stream",
     "text": [
      "Enter a number: 52452\n"
     ]
    },
    {
     "data": {
      "text/plain": [
       "'52452 is Even number'"
      ]
     },
     "execution_count": 6,
     "metadata": {},
     "output_type": "execute_result"
    }
   ],
   "source": [
    "OddEven.OddEven()"
   ]
  },
  {
   "cell_type": "code",
   "execution_count": 22,
   "id": "1283a043-20d7-44e4-b2ad-36320025fc22",
   "metadata": {},
   "outputs": [],
   "source": [
    "class ElegiblityForMarriage():\n",
    "    def Elegible():\n",
    "        gender=(input(\"Your Gender:\"))\n",
    "        age=int(input(\"Your Age:\"))\n",
    "        if(gender.lower()==\"male\" and age>20 ):\n",
    "            msg=\"ELIGIBLE\"\n",
    "        elif(gender.lower()==\"female\" and age>17):\n",
    "            msg=\"ELIGIBLE\"\n",
    "        elif(gender.lower()!=\"male\" or gender.lower()!=\"female\"):\n",
    "            msg=\"Enter a valid gender\"\n",
    "        else:\n",
    "            msg=\"NOT ELIGIBLE\"\n",
    "        return msg\n"
   ]
  },
  {
   "cell_type": "code",
   "execution_count": 28,
   "id": "ea62987e-7059-4922-a5dd-f38376bf7c8c",
   "metadata": {},
   "outputs": [
    {
     "name": "stdin",
     "output_type": "stream",
     "text": [
      "Your Gender: male\n",
      "Your Age: 21\n"
     ]
    },
    {
     "data": {
      "text/plain": [
       "'ELIGIBLE'"
      ]
     },
     "execution_count": 28,
     "metadata": {},
     "output_type": "execute_result"
    }
   ],
   "source": [
    "ElegiblityForMarriage.Elegible()"
   ]
  },
  {
   "cell_type": "code",
   "execution_count": 30,
   "id": "e6b45665-6179-48b7-a440-41fa0f76577a",
   "metadata": {},
   "outputs": [],
   "source": [
    "class FindPercent():\n",
    "    def percentage():\n",
    "        sub1=int(input(\"Subject1=\"))\n",
    "        sub2=int(input(\"Subject1=\"))\n",
    "        sub3=int(input(\"Subject1=\"))\n",
    "        sub4=int(input(\"Subject1=\"))\n",
    "        sub5=int(input(\"Subject1=\"))\n",
    "        total=sub1+sub2+sub3+sub4+sub5\n",
    "        avg=total/5\n",
    "        print(\"Total :\", total)\n",
    "        print(\"Percentage :\", avg )\n",
    "        #return avg"
   ]
  },
  {
   "cell_type": "code",
   "execution_count": 31,
   "id": "536ca92f-a613-47c4-b4c7-d94fda894ef2",
   "metadata": {},
   "outputs": [
    {
     "name": "stdin",
     "output_type": "stream",
     "text": [
      "Subject1= 98\n",
      "Subject1= 87\n",
      "Subject1= 95\n",
      "Subject1= 95\n",
      "Subject1= 93\n"
     ]
    },
    {
     "name": "stdout",
     "output_type": "stream",
     "text": [
      "Total : 468\n",
      "Percentage : 93.6\n"
     ]
    }
   ],
   "source": [
    "FindPercent.percentage()"
   ]
  },
  {
   "cell_type": "code",
   "execution_count": 34,
   "id": "ae2e34ac-acab-42cd-a2f4-81e87490cb47",
   "metadata": {},
   "outputs": [],
   "source": [
    "class triangle():\n",
    "    def triangle():\n",
    "        h=int(input(\"Height:\"))\n",
    "        b=int(input(\"Breadth:\"))\n",
    "        print(\"Area formula: (Height*Breadth)/2\")\n",
    "        a= (h*b)/2\n",
    "        print(\"Area of Triangle: \",a)\n",
    "        h1=int(input(\"Height1:\"))\n",
    "        h2=int(input(\"Height2:\"))\n",
    "        b2=int(input(\"Breadth:\"))\n",
    "        print(\"Perimeter formula: Height1+Height2+Breadth\")\n",
    "        p= h1+h2+b2\n",
    "        print(\"Perimeter of Triangle: \",p)\n",
    "        "
   ]
  },
  {
   "cell_type": "code",
   "execution_count": 35,
   "id": "75b7214f-1940-4d19-9b7d-ff60843d772a",
   "metadata": {},
   "outputs": [
    {
     "name": "stdin",
     "output_type": "stream",
     "text": [
      "Height: 32\n",
      "Breadth: 34\n"
     ]
    },
    {
     "name": "stdout",
     "output_type": "stream",
     "text": [
      "Area formula: (Height*Breadth)/2\n",
      "Area of Triangle:  544.0\n"
     ]
    },
    {
     "name": "stdin",
     "output_type": "stream",
     "text": [
      "Height1: 2\n",
      "Height2: 4\n",
      "Breadth: 4\n"
     ]
    },
    {
     "name": "stdout",
     "output_type": "stream",
     "text": [
      "Perimeter formula: Height1+Height2+Breadth\n",
      "Perimeter of Triangle:  10\n"
     ]
    }
   ],
   "source": [
    "triangle.triangle()"
   ]
  },
  {
   "cell_type": "code",
   "execution_count": null,
   "id": "7ff8d79b-d242-456c-887f-e1495dddad90",
   "metadata": {},
   "outputs": [],
   "source": []
  },
  {
   "cell_type": "code",
   "execution_count": null,
   "id": "945646ba-5117-4619-a71b-f7940a23757f",
   "metadata": {},
   "outputs": [],
   "source": []
  }
 ],
 "metadata": {
  "kernelspec": {
   "display_name": "Python 3 (ipykernel)",
   "language": "python",
   "name": "python3"
  },
  "language_info": {
   "codemirror_mode": {
    "name": "ipython",
    "version": 3
   },
   "file_extension": ".py",
   "mimetype": "text/x-python",
   "name": "python",
   "nbconvert_exporter": "python",
   "pygments_lexer": "ipython3",
   "version": "3.12.0"
  }
 },
 "nbformat": 4,
 "nbformat_minor": 5
}
