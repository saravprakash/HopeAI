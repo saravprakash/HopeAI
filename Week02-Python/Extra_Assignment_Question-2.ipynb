{
 "cells": [
  {
   "cell_type": "code",
   "execution_count": 1,
   "id": "7fd8ebd5-94d3-44e1-b79e-a86260c89d68",
   "metadata": {},
   "outputs": [
    {
     "name": "stdout",
     "output_type": "stream",
     "text": [
      "0\n",
      "1\n",
      "2\n",
      "3\n",
      "4\n",
      "5\n",
      "6\n",
      "7\n",
      "8\n",
      "9\n",
      "10\n",
      "11\n",
      "12\n",
      "13\n",
      "14\n",
      "15\n",
      "16\n",
      "17\n",
      "18\n",
      "19\n"
     ]
    }
   ],
   "source": [
    "nums=range(0,20)\n",
    "for n in nums:\n",
    "    print(n)"
   ]
  },
  {
   "cell_type": "code",
   "execution_count": 6,
   "id": "8e111ba0-1ad7-4cf3-9737-12b2151612c5",
   "metadata": {},
   "outputs": [
    {
     "name": "stdout",
     "output_type": "stream",
     "text": [
      " 10 11 12 13 14 15 16 17 18 19\n"
     ]
    }
   ],
   "source": [
    "tens=range(10,20)\n",
    "text=\"\"\n",
    "for t in tens:\n",
    "    text=(text)+ \" \" +str(t)\n",
    "\n",
    "print(text)\n",
    "    "
   ]
  },
  {
   "cell_type": "code",
   "execution_count": 12,
   "id": "c863c163-d2c4-4a62-a83b-f6d62a5954e7",
   "metadata": {},
   "outputs": [
    {
     "name": "stdout",
     "output_type": "stream",
     "text": [
      "[10, 20, 14, 55, 43, 87, 76]\n",
      "Number of item in the List2:\n",
      "7\n"
     ]
    }
   ],
   "source": [
    "mylist=[10, 20, 14, 55, 43, 87, 76]\n",
    "print(mylist)\n",
    "print(\"Number of item in the List2:\")\n",
    "print(len(mylist))"
   ]
  },
  {
   "cell_type": "code",
   "execution_count": 13,
   "id": "f03d4f6d-7650-40e9-962d-7c3f3b6545c4",
   "metadata": {},
   "outputs": [
    {
     "name": "stdout",
     "output_type": "stream",
     "text": [
      "A\n",
      "r\n",
      "t\n",
      "i\n",
      "f\n",
      "i\n",
      "c\n",
      "i\n",
      "a\n",
      "l\n",
      " \n",
      "I\n",
      "n\n",
      "t\n",
      "e\n",
      "l\n",
      "l\n",
      "i\n",
      "g\n",
      "e\n",
      "n\n",
      "c\n",
      "e\n"
     ]
    }
   ],
   "source": [
    "ai=\"Artificial Intelligence\"\n",
    "for a in ai:\n",
    "    print(a)"
   ]
  },
  {
   "cell_type": "code",
   "execution_count": 14,
   "id": "6042e6b7-5f50-40fe-911a-bc951c89053b",
   "metadata": {},
   "outputs": [
    {
     "name": "stdout",
     "output_type": "stream",
     "text": [
      "-Your Name-\n",
      "-Your Age-\n",
      "-Your Profession-\n"
     ]
    }
   ],
   "source": [
    "print(\"-Your Name-\")\n",
    "print(\"-Your Age-\")\n",
    "print(\"-Your Profession-\")\n"
   ]
  },
  {
   "cell_type": "code",
   "execution_count": 18,
   "id": "2d033ba2-5808-4da5-bc1e-9910cc0d2eb0",
   "metadata": {},
   "outputs": [
    {
     "name": "stdout",
     "output_type": "stream",
     "text": [
      "(1, 'Welcome', 2, 'Hope')\n"
     ]
    }
   ],
   "source": [
    "tuple0=(1, 'Welcome', 2, 'Hope')\n",
    "print(tuple0)"
   ]
  },
  {
   "cell_type": "code",
   "execution_count": 19,
   "id": "e078303f-8460-41c1-867a-bc15addc5a0a",
   "metadata": {},
   "outputs": [
    {
     "name": "stdout",
     "output_type": "stream",
     "text": [
      "\n",
      "Tuple with Mixed Datatypes: \n",
      "(5, 'Welcome', 7, 'Geeks')\n"
     ]
    }
   ],
   "source": [
    "Tuple1 = (5, 'Welcome', 7, 'Geeks')\n",
    "print(\"\\nTuple with Mixed Datatypes: \")\n",
    "print(Tuple1)"
   ]
  },
  {
   "cell_type": "code",
   "execution_count": 20,
   "id": "86092e81-59cb-42b6-9942-7778ec522f8d",
   "metadata": {},
   "outputs": [
    {
     "name": "stdout",
     "output_type": "stream",
     "text": [
      "\n",
      "Tuple with nested tuples: \n",
      "((0, 1, 2, 3), ('python', 'geek'))\n"
     ]
    }
   ],
   "source": [
    "Tuple1 = (0, 1, 2, 3)\n",
    "Tuple2 = ('python', 'geek')\n",
    "Tuple3 = (Tuple1, Tuple2)\n",
    "print(\"\\nTuple with nested tuples: \")\n",
    "print(Tuple3)"
   ]
  },
  {
   "cell_type": "code",
   "execution_count": 23,
   "id": "ecbba699-c431-4ae1-bacc-8de22006b6f6",
   "metadata": {},
   "outputs": [
    {
     "name": "stdout",
     "output_type": "stream",
     "text": [
      "19 is odd\n",
      "25 is odd\n",
      "1 is odd\n"
     ]
    }
   ],
   "source": [
    "input=(20,10,16,19,25,1,276,188)\n",
    "for i in input:\n",
    "    if(i%2==1):\n",
    "        print(i, \"is odd\")"
   ]
  },
  {
   "cell_type": "code",
   "execution_count": 24,
   "id": "436929fe-db90-4c29-a371-42f67206e894",
   "metadata": {},
   "outputs": [
    {
     "name": "stdout",
     "output_type": "stream",
     "text": [
      "20 is even\n",
      "10 is even\n",
      "16 is even\n",
      "276 is even\n",
      "188 is even\n"
     ]
    }
   ],
   "source": [
    "input=(20,10,16,19,25,1,276,188)\n",
    "for i in input:\n",
    "    if(i%2==0):\n",
    "        print(i, \"is even\")"
   ]
  },
  {
   "cell_type": "code",
   "execution_count": null,
   "id": "877dc3db-2d8e-4f74-8654-37dd869d3cc4",
   "metadata": {},
   "outputs": [],
   "source": []
  },
  {
   "cell_type": "code",
   "execution_count": null,
   "id": "7474c0f3-f905-4148-bc1b-d1a04bf1c6c1",
   "metadata": {},
   "outputs": [],
   "source": []
  },
  {
   "cell_type": "code",
   "execution_count": null,
   "id": "77a8b0d5-c50c-429d-ab6f-f7faf85bde8d",
   "metadata": {},
   "outputs": [],
   "source": []
  },
  {
   "cell_type": "code",
   "execution_count": null,
   "id": "7f9b66b3-3ace-4524-9248-06f50b9386f8",
   "metadata": {},
   "outputs": [],
   "source": []
  },
  {
   "cell_type": "code",
   "execution_count": null,
   "id": "9ba24da6-b0b4-4e55-a492-6dd06fbde8df",
   "metadata": {},
   "outputs": [],
   "source": []
  },
  {
   "cell_type": "code",
   "execution_count": null,
   "id": "6aed4598-07fe-462a-947d-0ed252b4ed8d",
   "metadata": {},
   "outputs": [],
   "source": []
  },
  {
   "cell_type": "code",
   "execution_count": null,
   "id": "c0dfc9da-013c-4567-b726-38f67c9b41b1",
   "metadata": {},
   "outputs": [],
   "source": []
  },
  {
   "cell_type": "code",
   "execution_count": null,
   "id": "0ce3c031-707e-46b2-93f6-19471bcde854",
   "metadata": {},
   "outputs": [],
   "source": []
  },
  {
   "cell_type": "code",
   "execution_count": null,
   "id": "9423565b-a1ac-41bd-ba18-fc73a61c1b77",
   "metadata": {},
   "outputs": [],
   "source": []
  },
  {
   "cell_type": "code",
   "execution_count": null,
   "id": "993e63a7-d59d-48c7-8d4c-b5a925ae43cd",
   "metadata": {},
   "outputs": [],
   "source": []
  },
  {
   "cell_type": "code",
   "execution_count": null,
   "id": "9034c98c-a4ae-453f-980e-e1f1d4ed3a59",
   "metadata": {},
   "outputs": [],
   "source": []
  },
  {
   "cell_type": "code",
   "execution_count": null,
   "id": "eef0b0f0-bc18-4d60-91e3-57a30974c0c1",
   "metadata": {},
   "outputs": [],
   "source": []
  },
  {
   "cell_type": "code",
   "execution_count": null,
   "id": "84e10aff-b7ca-4b52-8210-a3cb35f4b030",
   "metadata": {},
   "outputs": [],
   "source": []
  },
  {
   "cell_type": "code",
   "execution_count": null,
   "id": "5cdf70a1-ec61-4468-b8b2-eef8f971d456",
   "metadata": {},
   "outputs": [],
   "source": []
  },
  {
   "cell_type": "code",
   "execution_count": null,
   "id": "ace163cf-d2b5-44d9-b6b6-55b6ddd6bb9d",
   "metadata": {},
   "outputs": [],
   "source": []
  }
 ],
 "metadata": {
  "kernelspec": {
   "display_name": "Python 3 (ipykernel)",
   "language": "python",
   "name": "python3"
  },
  "language_info": {
   "codemirror_mode": {
    "name": "ipython",
    "version": 3
   },
   "file_extension": ".py",
   "mimetype": "text/x-python",
   "name": "python",
   "nbconvert_exporter": "python",
   "pygments_lexer": "ipython3",
   "version": "3.12.0"
  }
 },
 "nbformat": 4,
 "nbformat_minor": 5
}
