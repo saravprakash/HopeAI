{
 "cells": [
  {
   "cell_type": "code",
   "execution_count": 2,
   "id": "623af7b0-efa1-4008-9976-a33c65512edc",
   "metadata": {},
   "outputs": [],
   "source": [
    "def Subfields():\n",
    "    print(\"Sub-fields in AI are:\")\n",
    "    print(\"Machine Learning\")\n",
    "    print(\"Neural Networks\")\n",
    "    print(\"Vision\")\n",
    "    print(\"Robotics\")\n",
    "    print(\"Speech Processing\")\n",
    "    print(\"Natural Language Processing\")\n",
    "    "
   ]
  },
  {
   "cell_type": "code",
   "execution_count": 3,
   "id": "4536c42c-f6ad-4585-89e4-44107b5222f0",
   "metadata": {},
   "outputs": [
    {
     "name": "stdout",
     "output_type": "stream",
     "text": [
      "Sub-fields in AI are:\n",
      "Machine Learning\n",
      "Neural Networks\n",
      "Vision\n",
      "Robotics\n",
      "Speech Processing\n",
      "Natural Language Processing\n"
     ]
    }
   ],
   "source": [
    "Subfields()"
   ]
  },
  {
   "cell_type": "code",
   "execution_count": 7,
   "id": "20583e68-9155-4ab6-967d-bf54cabf2d92",
   "metadata": {},
   "outputs": [],
   "source": [
    "def OddEven():\n",
    "    num=int(input(\"Enter a number:\"))\n",
    "    if(num%2==0):\n",
    "        msg=str(num)+ \" is Even number\"\n",
    "    else:\n",
    "        msg=str(num)+ \" is Odd number\"\n",
    "    return msg\n",
    "    "
   ]
  },
  {
   "cell_type": "code",
   "execution_count": 8,
   "id": "58c174b0-37bc-46d6-93e8-2c3e00d11ca3",
   "metadata": {},
   "outputs": [
    {
     "name": "stdin",
     "output_type": "stream",
     "text": [
      "Enter a number: 52452\n"
     ]
    },
    {
     "data": {
      "text/plain": [
       "'52452 is Even number'"
      ]
     },
     "execution_count": 8,
     "metadata": {},
     "output_type": "execute_result"
    }
   ],
   "source": [
    "OddEven()"
   ]
  },
  {
   "cell_type": "code",
   "execution_count": 12,
   "id": "a347722f-3fdd-46c0-8020-c4ff2300c946",
   "metadata": {},
   "outputs": [],
   "source": [
    "def Elegible():\n",
    "    gender=(input(\"Your Gender:\"))\n",
    "    age=int(input(\"Your Age:\"))\n",
    "    if(gender.lower()==\"male\"):\n",
    "        if(age>20):\n",
    "            msg=\"ELIGIBLE\"\n",
    "        else:\n",
    "            msg=\"NOT ELIGIBLE\"\n",
    "    elif(gender.lower()==\"female\"):\n",
    "        if(age>17):\n",
    "            msg=\"ELIGIBLE\"\n",
    "        else:\n",
    "            msg=\"NOT ELIGIBLE\"\n",
    "    return msg"
   ]
  },
  {
   "cell_type": "code",
   "execution_count": 15,
   "id": "54d95652-2d4b-47a0-90a4-3ba40ed23bed",
   "metadata": {},
   "outputs": [
    {
     "name": "stdin",
     "output_type": "stream",
     "text": [
      "Your Gender: male\n",
      "Your Age: 20\n"
     ]
    },
    {
     "data": {
      "text/plain": [
       "'NOT ELIGIBLE'"
      ]
     },
     "execution_count": 15,
     "metadata": {},
     "output_type": "execute_result"
    }
   ],
   "source": [
    "Elegible()"
   ]
  },
  {
   "cell_type": "code",
   "execution_count": 1,
   "id": "acf5b584-f3cf-4d73-9ad1-780406af1000",
   "metadata": {},
   "outputs": [],
   "source": [
    "def Elegible():\n",
    "    gender=(input(\"Your Gender:\"))\n",
    "    age=int(input(\"Your Age:\"))\n",
    "    if(gender.lower()==\"male\" and age>20 ):\n",
    "        msg=\"ELIGIBLE\"\n",
    "    elif(gender.lower()==\"male\" and age<21 ):\n",
    "        msg=\"NOT ELIGIBLE\"\n",
    "    elif(gender.lower()==\"female\" and age>17):\n",
    "        msg=\"ELIGIBLE\"\n",
    "    elif(gender.lower()==\"female\" and age<18):\n",
    "            msg=\"NOT ELIGIBLE\"\n",
    "    return msg"
   ]
  },
  {
   "cell_type": "code",
   "execution_count": 2,
   "id": "1317f16a-a2f8-49f4-b34b-b9271ed7768b",
   "metadata": {},
   "outputs": [
    {
     "name": "stdin",
     "output_type": "stream",
     "text": [
      "Your Gender: male\n",
      "Your Age: 20\n"
     ]
    },
    {
     "data": {
      "text/plain": [
       "'NOT ELIGIBLE'"
      ]
     },
     "execution_count": 2,
     "metadata": {},
     "output_type": "execute_result"
    }
   ],
   "source": [
    "Elegible()"
   ]
  },
  {
   "cell_type": "code",
   "execution_count": null,
   "id": "e761433a-b1e2-4db0-bc7f-fc8f1f4883ce",
   "metadata": {},
   "outputs": [],
   "source": []
  },
  {
   "cell_type": "code",
   "execution_count": null,
   "id": "d759bd1c-1bab-4392-9791-797a68e5940d",
   "metadata": {},
   "outputs": [],
   "source": []
  },
  {
   "cell_type": "code",
   "execution_count": 27,
   "id": "29ad5f83-cad3-4b71-8801-2553e98ef24e",
   "metadata": {},
   "outputs": [],
   "source": [
    "def percentage():\n",
    "    sub1=int(input(\"Subject1=\"))\n",
    "    sub2=int(input(\"Subject1=\"))\n",
    "    sub3=int(input(\"Subject1=\"))\n",
    "    sub4=int(input(\"Subject1=\"))\n",
    "    sub5=int(input(\"Subject1=\"))\n",
    "    total=sub1+sub2+sub3+sub4+sub5\n",
    "    avg=total/5\n",
    "    print(\"Total :\", total)\n",
    "    print(\"Percentage :\", avg )\n",
    "    #return avg"
   ]
  },
  {
   "cell_type": "code",
   "execution_count": 20,
   "id": "d8c15e8a-ada0-496e-ba2a-64be977e50c8",
   "metadata": {},
   "outputs": [
    {
     "name": "stdin",
     "output_type": "stream",
     "text": [
      "Subject1= 98\n",
      "Subject1= 87\n",
      "Subject1= 95\n",
      "Subject1= 95\n",
      "Subject1= 93\n"
     ]
    },
    {
     "name": "stdout",
     "output_type": "stream",
     "text": [
      "Total : 468\n",
      "Percentage : 93.6\n"
     ]
    }
   ],
   "source": [
    "percentage()"
   ]
  },
  {
   "cell_type": "code",
   "execution_count": 30,
   "id": "4809c50b-b47c-4d1f-808c-fd832d4f1857",
   "metadata": {},
   "outputs": [],
   "source": [
    "def triangle():\n",
    "    h=int(input(\"Height:\"))\n",
    "    b=int(input(\"Breadth:\"))\n",
    "    print(\"Area formula: (Height*Breadth)/2\")\n",
    "    a= (h*b)/2\n",
    "    print(\"Area of Triangle: \",a)\n",
    "    h1=int(input(\"Height1:\"))\n",
    "    h2=int(input(\"Height2:\"))\n",
    "    b2=int(input(\"Breadth:\"))\n",
    "    print(\"Perimeter formula: Height1+Height2+Breadth\")\n",
    "    p= h1+h2+b2\n",
    "    print(\"Perimeter of Triangle: \",p)"
   ]
  },
  {
   "cell_type": "code",
   "execution_count": 31,
   "id": "a129a98c-238a-4cac-8f89-1a5e0e95405b",
   "metadata": {},
   "outputs": [
    {
     "name": "stdin",
     "output_type": "stream",
     "text": [
      "Height: 32\n",
      "Breadth: 34\n"
     ]
    },
    {
     "name": "stdout",
     "output_type": "stream",
     "text": [
      "Area formula: (Height*Breadth)/2\n",
      "Area of Triangle:  544.0\n"
     ]
    },
    {
     "name": "stdin",
     "output_type": "stream",
     "text": [
      "Height1: 2\n",
      "Height2: 4\n",
      "Breadth: 4\n"
     ]
    },
    {
     "name": "stdout",
     "output_type": "stream",
     "text": [
      "Perimeter formula: Height1+Height2+Breadth\n",
      "Perimeter of Triangle:  10\n"
     ]
    }
   ],
   "source": [
    "triangle()"
   ]
  },
  {
   "cell_type": "code",
   "execution_count": null,
   "id": "947c14e3-5f8a-4424-b5bb-e20caa95ca3e",
   "metadata": {},
   "outputs": [],
   "source": []
  }
 ],
 "metadata": {
  "kernelspec": {
   "display_name": "Python 3 (ipykernel)",
   "language": "python",
   "name": "python3"
  },
  "language_info": {
   "codemirror_mode": {
    "name": "ipython",
    "version": 3
   },
   "file_extension": ".py",
   "mimetype": "text/x-python",
   "name": "python",
   "nbconvert_exporter": "python",
   "pygments_lexer": "ipython3",
   "version": "3.12.0"
  }
 },
 "nbformat": 4,
 "nbformat_minor": 5
}
