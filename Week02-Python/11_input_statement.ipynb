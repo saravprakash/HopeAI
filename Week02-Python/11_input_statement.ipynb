{
 "cells": [
  {
   "cell_type": "code",
   "execution_count": 1,
   "id": "0a83097d-f165-48cc-8cd4-98cc02a1528c",
   "metadata": {},
   "outputs": [
    {
     "name": "stdin",
     "output_type": "stream",
     "text": [
      "Enter the first number:  62\n",
      "Enter the second number:  5\n"
     ]
    },
    {
     "name": "stdout",
     "output_type": "stream",
     "text": [
      "sum of given two numbers =  67\n",
      "substracted value =  57\n",
      "multiplication of given two numbers =  310\n",
      "Quotient =  12.4 and Reminder = 2\n"
     ]
    }
   ],
   "source": [
    "num5 = int(input(\"Enter the first number: \"))\n",
    "num6 = int(input(\"Enter the second number: \"))\n",
    "sum2=num5+num6\n",
    "mul=num5*num6\n",
    "sub2=num5-num6\n",
    "quo=num5/num6\n",
    "reminder=num5%num6\n",
    "print(\"sum of given two numbers = \",sum2)\n",
    "print(\"substracted value = \",sub2)\n",
    "print(\"multiplication of given two numbers = \",mul)\n",
    "print(\"Quotient = \",quo, \"and Reminder =\", reminder )"
   ]
  },
  {
   "cell_type": "code",
   "execution_count": null,
   "id": "f61a29fc-b9ea-4e07-a3e0-ec780af13a77",
   "metadata": {},
   "outputs": [],
   "source": []
  }
 ],
 "metadata": {
  "kernelspec": {
   "display_name": "Python 3 (ipykernel)",
   "language": "python",
   "name": "python3"
  },
  "language_info": {
   "codemirror_mode": {
    "name": "ipython",
    "version": 3
   },
   "file_extension": ".py",
   "mimetype": "text/x-python",
   "name": "python",
   "nbconvert_exporter": "python",
   "pygments_lexer": "ipython3",
   "version": "3.12.0"
  }
 },
 "nbformat": 4,
 "nbformat_minor": 5
}
