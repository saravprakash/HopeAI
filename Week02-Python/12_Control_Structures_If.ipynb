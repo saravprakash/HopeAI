{
 "cells": [
  {
   "cell_type": "code",
   "execution_count": 1,
   "id": "a66efbc7-1d07-402c-8b85-d0669bbf99b2",
   "metadata": {},
   "outputs": [],
   "source": [
    "if():\n",
    "    print()"
   ]
  },
  {
   "cell_type": "code",
   "execution_count": null,
   "id": "9f27ab74-3b1c-4826-b5f9-f74152a6c5cf",
   "metadata": {},
   "outputs": [],
   "source": [
    "mark=int(input(\"Enter your marks: \"))\n",
    "if(mark>34):\n",
    "    print(\"your mark: \", mark, \"status: passed\")"
   ]
  },
  {
   "cell_type": "code",
   "execution_count": 6,
   "id": "48368140-4e79-4a18-aea2-988b1c4db5c9",
   "metadata": {},
   "outputs": [
    {
     "name": "stdin",
     "output_type": "stream",
     "text": [
      "Enter your marks:  40\n"
     ]
    },
    {
     "name": "stdout",
     "output_type": "stream",
     "text": [
      "your mark:  40 status: passed\n"
     ]
    }
   ],
   "source": [
    "mark=int(input(\"Enter your marks: \"))\n",
    "if(mark>34):\n",
    "    print(\"your mark: \", mark, \"status: passed\")"
   ]
  },
  {
   "cell_type": "code",
   "execution_count": 10,
   "id": "a72e39da-4e69-4e34-8cbb-dcab6f02f0fe",
   "metadata": {},
   "outputs": [
    {
     "name": "stdout",
     "output_type": "stream",
     "text": [
      "\n"
     ]
    }
   ],
   "source": [
    "if():\n",
    "    print()\n",
    "else:\n",
    "    print()\n",
    "    "
   ]
  },
  {
   "cell_type": "code",
   "execution_count": 11,
   "id": "7bfe8641-9a25-4b09-bdbf-d230b476a2cb",
   "metadata": {},
   "outputs": [
    {
     "name": "stdin",
     "output_type": "stream",
     "text": [
      "Enter your marks:  33\n"
     ]
    },
    {
     "name": "stdout",
     "output_type": "stream",
     "text": [
      "your mark:  33 status: failed\n"
     ]
    }
   ],
   "source": [
    "mark=int(input(\"Enter your marks: \"))\n",
    "if(mark>34):\n",
    "    print(\"your mark: \", mark, \"status: passed\")\n",
    "else:\n",
    "    print(\"your mark: \", mark, \"status: failed\")"
   ]
  },
  {
   "cell_type": "code",
   "execution_count": 12,
   "id": "71c3258c-d7dc-43e6-9104-39ebc1cd8138",
   "metadata": {},
   "outputs": [
    {
     "name": "stdout",
     "output_type": "stream",
     "text": [
      "\n"
     ]
    }
   ],
   "source": [
    "if():\n",
    "    print()\n",
    "elif():\n",
    "    print()\n",
    "elif():\n",
    "    print()\n",
    "elif():\n",
    "    print()\n",
    "else:\n",
    "    print()"
   ]
  },
  {
   "cell_type": "code",
   "execution_count": 18,
   "id": "8c9e2d75-b310-4b88-b8fa-53583ad3185d",
   "metadata": {},
   "outputs": [
    {
     "name": "stdin",
     "output_type": "stream",
     "text": [
      "Enter your marks:  0\n"
     ]
    },
    {
     "name": "stdout",
     "output_type": "stream",
     "text": [
      "your mark:  0 status: failed\n"
     ]
    }
   ],
   "source": [
    "mark=int(input(\"Enter your marks: \"))\n",
    "if(mark>=75):\n",
    "    print(\"your mark: \", mark, \"status: passed with distiction\")\n",
    "elif(mark>=60):\n",
    "    print(\"your mark: \", mark, \"status: passed with 1st class\")\n",
    "elif(mark>=35):\n",
    "    print(\"your mark: \", mark, \"status: passed\")\n",
    "else:\n",
    "    print(\"your mark: \", mark, \"status: failed\")"
   ]
  },
  {
   "cell_type": "code",
   "execution_count": null,
   "id": "63e3562e-334d-4782-b7a5-32da9bb0eb08",
   "metadata": {},
   "outputs": [],
   "source": []
  },
  {
   "cell_type": "code",
   "execution_count": null,
   "id": "05f68c54-7751-41cb-8978-3cae71612670",
   "metadata": {},
   "outputs": [],
   "source": []
  },
  {
   "cell_type": "code",
   "execution_count": null,
   "id": "a30a1231-f387-4f07-be52-c4531c4a9790",
   "metadata": {},
   "outputs": [],
   "source": []
  },
  {
   "cell_type": "code",
   "execution_count": null,
   "id": "6753fbd9-5635-4445-9a53-bce41b480c41",
   "metadata": {},
   "outputs": [],
   "source": []
  },
  {
   "cell_type": "code",
   "execution_count": null,
   "id": "a555b599-a8f6-40d9-a958-7a02b580c6bc",
   "metadata": {},
   "outputs": [],
   "source": []
  },
  {
   "cell_type": "code",
   "execution_count": null,
   "id": "ee391ba1-01f8-4697-963a-799a3ed50c6f",
   "metadata": {},
   "outputs": [],
   "source": []
  },
  {
   "cell_type": "code",
   "execution_count": null,
   "id": "df2af036-5dd9-47f8-8af8-9755648c4cc0",
   "metadata": {},
   "outputs": [],
   "source": []
  },
  {
   "cell_type": "code",
   "execution_count": null,
   "id": "b96f1448-ea1c-46c6-9c06-a9a64b177100",
   "metadata": {},
   "outputs": [],
   "source": []
  },
  {
   "cell_type": "code",
   "execution_count": null,
   "id": "1a173432-c226-460a-bef7-b93d19eed230",
   "metadata": {},
   "outputs": [],
   "source": []
  },
  {
   "cell_type": "code",
   "execution_count": null,
   "id": "21a97ce2-8a64-40a4-ad6c-cbb1fe587f80",
   "metadata": {},
   "outputs": [],
   "source": []
  },
  {
   "cell_type": "code",
   "execution_count": null,
   "id": "fea49dea-b1e1-4648-ba08-e97a56fcb469",
   "metadata": {},
   "outputs": [],
   "source": []
  }
 ],
 "metadata": {
  "kernelspec": {
   "display_name": "Python 3 (ipykernel)",
   "language": "python",
   "name": "python3"
  },
  "language_info": {
   "codemirror_mode": {
    "name": "ipython",
    "version": 3
   },
   "file_extension": ".py",
   "mimetype": "text/x-python",
   "name": "python",
   "nbconvert_exporter": "python",
   "pygments_lexer": "ipython3",
   "version": "3.12.0"
  }
 },
 "nbformat": 4,
 "nbformat_minor": 5
}
